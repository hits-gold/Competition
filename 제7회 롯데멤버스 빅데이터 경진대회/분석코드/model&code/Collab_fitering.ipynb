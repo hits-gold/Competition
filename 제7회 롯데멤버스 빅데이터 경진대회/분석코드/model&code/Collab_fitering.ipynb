{
 "cells": [
  {
   "cell_type": "markdown",
   "id": "6cadec14",
   "metadata": {},
   "source": [
    "# module import"
   ]
  },
  {
   "cell_type": "code",
   "execution_count": null,
   "id": "30a79fcb",
   "metadata": {},
   "outputs": [],
   "source": [
    "# basic libray\n",
    "import os\n",
    "import numpy as np\n",
    "import random\n",
    "import pandas as pd\n",
    "import warnings; warnings.filterwarnings(\"ignore\")\n",
    "\n",
    "# surprise Library import\n",
    "from surprise import SVD\n",
    "from surprise import Dataset\n",
    "from surprise import Reader\n",
    "from surprise import accuracy\n",
    "from surprise.model_selection import train_test_split\n",
    "from surprise.dataset import DatasetAutoFolds\n",
    "\n",
    "# model save\n",
    "import pickle\n",
    "import joblib\n",
    "\n",
    "random.seed(0)\n",
    "\n",
    "data_path = \"../../3. 경서경욱_데이터 및 모델 세이브 파일/dataset/\"\n",
    "model_path = \"../../3. 경서경욱_데이터 및 모델 세이브 파일/model/\"\n",
    "os.environ['KMP_DUPLICATE_LIB_OK']='True'"
   ]
  },
  {
   "cell_type": "markdown",
   "id": "9cb5d8f1",
   "metadata": {},
   "source": [
    "# Read data"
   ]
  },
  {
   "cell_type": "code",
   "execution_count": null,
   "id": "eb547c99",
   "metadata": {},
   "outputs": [],
   "source": [
    "demo = pd.read_csv(data_path + \"origin_dataset/LPOINT_BIG_COMP_01_DEMO.csv\") # 고객정보\n",
    "pdde = pd.read_csv(data_path + \"origin_dataset/LPOINT_BIG_COMP_02_PDDE.csv\") # 유통사 상품 구매 내역\n",
    "product = pd.read_csv(data_path + \"origin_dataset/LPOINT_BIG_COMP_04_PD_CLAC.csv\") # 유통사 상품 카테고리 마스터"
   ]
  },
  {
   "cell_type": "markdown",
   "id": "9f66f94a",
   "metadata": {},
   "source": [
    "# preprocessing"
   ]
  },
  {
   "cell_type": "code",
   "execution_count": null,
   "id": "1b9eedd0",
   "metadata": {},
   "outputs": [],
   "source": [
    "# 상품코드에 따른 상품명 labeling feature\n",
    "\n",
    "pdde = pdde.merge(product, on = \"pd_c\", how = \"left\")\n",
    "pdde = pdde.drop(\"pd_c\", axis = 1)"
   ]
  },
  {
   "cell_type": "code",
   "execution_count": null,
   "id": "ec52388a",
   "metadata": {},
   "outputs": [],
   "source": [
    "# 결제 내역이 10번 초과인 고객들에 대한 유통사 구매 데이터만 추출\n",
    "\n",
    "cust_ = pdde.groupby(\"cust\")[\"rct_no\"].nunique()\n",
    "pdde = pdde.merge(cust_.reset_index().rename(columns = {'rct_no':\"pay_cnt\"}), on = \"cust\")\n",
    "pdde = pdde.query(\"pay_cnt > 10\")\n",
    "pdde.head(5)"
   ]
  },
  {
   "cell_type": "code",
   "execution_count": null,
   "id": "b0f88eb1",
   "metadata": {},
   "outputs": [],
   "source": [
    "# surprise 패키지 input을 위해 user-item 행렬 만들기 (surprise 패키지는 행렬의 unstack형식 사용)\n",
    "\n",
    "user_item_matrix = pd.pivot_table(data = pdde, index = \"pd_nm\", columns = \"cust\",\n",
    "                    values = \"buy_ct\", aggfunc = \"sum\")   # 고객의 상품별 구매횟수 -> 상품에 대한 호감도 -> 평점데이터 대체\n",
    "user_item_matrix = user_item_matrix.apply(lambda x : x/x.sum())  # 고객별 구매횟수에 대한 정규화\n",
    "user_item_matrix = user_item_matrix.unstack().reset_index().rename(columns = {'cust':\"custID\", \"pd_nm\":\"item\", 0:\"buy_ct\"})\n",
    "user_item_matrix = user_item_matrix.dropna()\n",
    "user_item_matrix.head(5)"
   ]
  },
  {
   "cell_type": "markdown",
   "id": "393b2a6b",
   "metadata": {},
   "source": [
    "# train test dataset split"
   ]
  },
  {
   "cell_type": "code",
   "execution_count": null,
   "id": "db90d071",
   "metadata": {},
   "outputs": [],
   "source": [
    "# demo 데이터의 고객 중 main.ipynb에서 모델을 적용해볼 고객 5명 추출 후 input dataset에서 제외\n",
    "\n",
    "val_cust_list = []\n",
    "for _ in range(10):\n",
    "    val_cust_list.append(demo.cust.unique()[random.randint(0, demo.shape[0])])\n",
    "    \n",
    "input_data = user_item_matrix.query(\"custID not in @val_cust_list\")"
   ]
  },
  {
   "cell_type": "code",
   "execution_count": null,
   "id": "c0e88ed7",
   "metadata": {},
   "outputs": [],
   "source": [
    "# main.ipynb에서 모델 적용해볼 고객 5명에 대한 data 저장\n",
    "\n",
    "user_item_matrix.query(\"custID in @val_cust_list\").to_csv(data_path + \"custom_dataset/collab_fitering_valset.csv\")"
   ]
  },
  {
   "cell_type": "code",
   "execution_count": null,
   "id": "0377b5fb",
   "metadata": {},
   "outputs": [],
   "source": [
    "user_item_matrix.query(\"custID in @val_cust_list\").custID.unique()"
   ]
  },
  {
   "cell_type": "code",
   "execution_count": null,
   "id": "b1001931",
   "metadata": {},
   "outputs": [],
   "source": [
    "# surprise 패키지 input용으로 data 변환\n",
    "reader = Reader(rating_scale=(0.0, 1.))\n",
    "data = Dataset.load_from_df(input_data, reader)\n",
    "\n",
    "# train, test 데이터셋 분할 -> 75:25 비율\n",
    "trainset, testset = train_test_split(data, test_size=0.25, random_state=0)"
   ]
  },
  {
   "cell_type": "markdown",
   "id": "9e146c69",
   "metadata": {},
   "source": [
    "# cross validation"
   ]
  },
  {
   "cell_type": "code",
   "execution_count": null,
   "id": "e0a13865",
   "metadata": {},
   "outputs": [],
   "source": [
    "# surprise 모델 import\n",
    "from surprise import SVD, SVDpp, SlopeOne, NMF, NormalPredictor, \n",
    "from surprise import KNNBasic,KNNBaseline, KNNWithMeans, KNNWithZScore, BaselineOnly, CoClustering\n",
    "# 교차검증 모듈\n",
    "from surprise.model_selection import cross_validate\n",
    "\n",
    "\n",
    "benchmark = []\n",
    "# 모든 알고리즘을 literate화 시켜서 반복문을 실행시킨다.\n",
    "for algorithm in [SVD(), SVDpp(), SlopeOne(), NMF(), NormalPredictor(), KNNBaseline(),\n",
    "                  KNNBasic(), KNNWithMeans(), KNNWithZScore(), BaselineOnly(), CoClustering()]:\n",
    "    \n",
    "    # 교차검증을 수행하는 단계.\n",
    "    results = cross_validate(algorithm, data, measures=['RMSE'], cv=3, verbose=False)\n",
    "    \n",
    "    # 결과 저장과 알고리즘 이름 추가.\n",
    "    tmp = pd.DataFrame.from_dict(results).mean(axis=0)\n",
    "    tmp = tmp.append(pd.Series([str(algorithm).split(' ')[0].split('.')[-1]], index=['Algorithm']))\n",
    "    benchmark.append(tmp)\n",
    "    \n",
    "pd.DataFrame(benchmark).set_index('Algorithm').sort_values('test_rmse')    "
   ]
  },
  {
   "cell_type": "markdown",
   "id": "2a258e42",
   "metadata": {},
   "source": [
    "* 각 모델별 교차검증 점수에 따르면 BaselineOnly 모델의 test_rmse와 fit_timed이 압도적이므로 최종 모델로 선택한다.\n",
    "* 하지만 주어진 데이터셋을 넘어 대용량 데이터셋 이용을 위해 메모리 절약 효과가 있는 SVD(잠재요인 추출) 모델 또한 선택한다."
   ]
  },
  {
   "cell_type": "markdown",
   "id": "e9169824",
   "metadata": {},
   "source": [
    "# Hyperparameters tunning"
   ]
  },
  {
   "cell_type": "code",
   "execution_count": null,
   "id": "9b75bd6f",
   "metadata": {},
   "outputs": [],
   "source": [
    "# 이제 trainset과 testset 전체를 사용하여 학습하기 위해 trainset을 전체로 변환\n",
    "trainset = data.build_full_trainset()"
   ]
  },
  {
   "cell_type": "code",
   "execution_count": null,
   "id": "5b931266",
   "metadata": {},
   "outputs": [],
   "source": [
    "# SVD 모델에 대해 GridSearch를 사용한 교차검증 rmse를 사용해 하이퍼파라미터 선정\n",
    "from surprise.model_selection import GridSearchCV\n",
    "\n",
    "# n_epochs: SGD 수행 시 반복 횟수, n_factors: 잠재 요인 크기\n",
    "param_grid = {\n",
    "    'n_epochs': [20, 40, 60], \n",
    "    'n_factors': [50, 100, 200]\n",
    "}\n",
    "\n",
    "# GridSearchCV\n",
    "gs = GridSearchCV(SVD, param_grid, measures=['rmse', 'mae'], cv=3) \n",
    "gs.fit(data)\n",
    "\n",
    "# 최적 하이퍼 파라미터 및 그 때의 최고 성능\n",
    "print(gs.best_params['rmse'])\n",
    "print(gs.best_score['rmse'])"
   ]
  },
  {
   "cell_type": "code",
   "execution_count": null,
   "id": "6596c494",
   "metadata": {},
   "outputs": [],
   "source": [
    "# BaselinOnly 모델과 최적 하아퍼파라미터를 적용한 SVD 모델 학습\n",
    "base = BaselineOnly(); svd = SVD(**gs.best_params['rmse'])\n",
    "base.fit(trainset); svd.fit(trainset)"
   ]
  },
  {
   "cell_type": "markdown",
   "id": "d77c2c4e",
   "metadata": {},
   "source": [
    "# save model"
   ]
  },
  {
   "cell_type": "code",
   "execution_count": null,
   "id": "ca452e0b",
   "metadata": {},
   "outputs": [],
   "source": [
    "joblib.dump(base, model_path + 'base.pkl')\n",
    "joblib.dump(svd, model_path + 'svd.pkl')"
   ]
  }
 ],
 "metadata": {
  "kernelspec": {
   "display_name": "Python 3 (ipykernel)",
   "language": "python",
   "name": "python3"
  },
  "language_info": {
   "codemirror_mode": {
    "name": "ipython",
    "version": 3
   },
   "file_extension": ".py",
   "mimetype": "text/x-python",
   "name": "python",
   "nbconvert_exporter": "python",
   "pygments_lexer": "ipython3",
   "version": "3.9.12"
  }
 },
 "nbformat": 4,
 "nbformat_minor": 5
}
