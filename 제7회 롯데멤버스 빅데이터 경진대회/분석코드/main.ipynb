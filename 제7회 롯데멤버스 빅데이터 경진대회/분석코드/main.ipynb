{
 "cells": [
  {
   "cell_type": "markdown",
   "id": "9d163925",
   "metadata": {},
   "source": [
    "# module import"
   ]
  },
  {
   "cell_type": "code",
   "execution_count": null,
   "id": "88e060a8",
   "metadata": {},
   "outputs": [],
   "source": [
    "# src 폴더의 kskwClass.py에 정의된 모듈 호출\n",
    "from src.kskwClass import support            # 연관상품추천 module\n",
    "from src.kskwClass import collab_filtering   # 잠재요인 협업필터링 추천 module\n",
    "from src.kskwClass import ESG_cal            # ESG score 계산 module\n",
    "\n",
    "# basic libraies\n",
    "import pandas as pd\n",
    "import numpy as np\n",
    "import gc\n",
    "import os\n",
    "import warnings\n",
    "warnings.filterwarnings(\"ignore\")\n",
    "\n",
    "import joblib\n",
    "\n",
    "# for ESG_cal module\n",
    "import time\n",
    "from datetime import datetime\n",
    "import random\n",
    "random.seed(1004)\n",
    "\n",
    "# for support module\n",
    "from mlxtend.frequent_patterns import apriori, association_rules\n",
    "from mlxtend.preprocessing import TransactionEncoder\n",
    "\n",
    "\n",
    "\n",
    "data_path = \"../3. 경서경욱_데이터 및 모델 세이브 파일/dataset/\"\n",
    "model_path = \"../3. 경서경욱_데이터 및 모델 세이브 파일/model/\""
   ]
  },
  {
   "cell_type": "markdown",
   "id": "c16f3a24",
   "metadata": {},
   "source": [
    "# Modul use"
   ]
  },
  {
   "cell_type": "markdown",
   "id": "487e8511",
   "metadata": {},
   "source": [
    "## 1. 잠재요인 협업 필터링을 사용한 상품 추천 - collab_filtering"
   ]
  },
  {
   "cell_type": "code",
   "execution_count": null,
   "id": "15cc7787",
   "metadata": {},
   "outputs": [],
   "source": [
    "# Read data & model\n",
    "\n",
    "model = joblib.load(model_path+'svd.pkl')  # 저장된 SVD 모델\n",
    "data = pd.read_csv(data_path + \"custom_dataset/collab_filtering_valset.csv\", index_col = 0)  # cust-item-rating dataset\n",
    "product = pd.read_csv(data_path + \"origin_dataset/LPOINT_BIG_COMP_04_PD_CLAC.csv\")  # 전체 상품 dataset\n",
    "\n",
    "pro_list = list(product.pd_nm.unique()) # 전체 상품 리스트\n",
    "val_cust_list = data.custID.unique().tolist() # 상품 추천을 받을 고객 명단 (시범용)"
   ]
  },
  {
   "cell_type": "code",
   "execution_count": null,
   "id": "1bb90271",
   "metadata": {},
   "outputs": [],
   "source": [
    "# 검증용 고객들에 대한 추천 상품 추출\n",
    "\n",
    "for custID in val_cust_list:\n",
    "    filter_recommen = collab_filtering(model, data, pro_list, custID)\n",
    "    print(custID, \"님의 추천 상품 리스트입니다.\")\n",
    "    filter_recommen.recomm_item_by_surprise()\n",
    "    print(\"\\n\")"
   ]
  },
  {
   "cell_type": "markdown",
   "id": "065e0d4a",
   "metadata": {},
   "source": [
    "## 2. 연관규칙분석 -> 연관 상품을 추천하는 경우"
   ]
  },
  {
   "cell_type": "code",
   "execution_count": null,
   "id": "5b0889ca",
   "metadata": {},
   "outputs": [],
   "source": [
    "# Read data & model\n",
    "\n",
    "pdde = pd.read_csv(data_path + \"origin_dataset/LPOINT_BIG_COMP_02_PDDE.csv\") # 유통사 상품 구매 내역\n",
    "\n",
    "# 상품코드에 따른 상품명 labeling feature\n",
    "pdde = pdde.merge(product, on = \"pd_c\", how = \"left\")\n",
    "pdde = pdde.drop(\"pd_c\", axis = 1)"
   ]
  },
  {
   "cell_type": "markdown",
   "id": "b6b3acd0",
   "metadata": {},
   "source": [
    "#### 장바구니, 찜한 상품, 최근 결제 내역에 '남성의류'가 있다면?"
   ]
  },
  {
   "cell_type": "code",
   "execution_count": null,
   "id": "9fd59357",
   "metadata": {},
   "outputs": [],
   "source": [
    "product = \"남성티셔츠\"\n",
    "recommend_class = support(pdde)\n",
    "recommend_class.pro_recommend(product)"
   ]
  },
  {
   "cell_type": "markdown",
   "id": "923ba1dd",
   "metadata": {},
   "source": [
    "## 3. ESG score 계산"
   ]
  },
  {
   "cell_type": "code",
   "execution_count": null,
   "id": "4a3008e1",
   "metadata": {},
   "outputs": [],
   "source": [
    "# Read data & model\n",
    "\n",
    "ESG = pd.read_csv(data_path + \"custom_dataset/ESG_score.csv\", index_col=0)"
   ]
  },
  {
   "cell_type": "code",
   "execution_count": null,
   "id": "ab556618",
   "metadata": {},
   "outputs": [],
   "source": [
    "esg = ESG_cal(ESG, \"M816318679\")"
   ]
  },
  {
   "cell_type": "markdown",
   "id": "d68c43a8",
   "metadata": {},
   "source": [
    "* 누적된 ESG score 확인"
   ]
  },
  {
   "cell_type": "code",
   "execution_count": null,
   "id": "e95f93d3",
   "metadata": {},
   "outputs": [],
   "source": [
    "esg.lookup_score()"
   ]
  },
  {
   "cell_type": "markdown",
   "id": "1fe9e54a",
   "metadata": {},
   "source": [
    "* 새로운 결제 내역에 대한 ESG score 확인 + 데이터셋에 추가"
   ]
  },
  {
   "cell_type": "code",
   "execution_count": null,
   "id": "09083db7",
   "metadata": {},
   "outputs": [],
   "source": [
    "esg.new_pay()"
   ]
  },
  {
   "cell_type": "code",
   "execution_count": null,
   "id": "744ab6f9",
   "metadata": {},
   "outputs": [],
   "source": [
    "esg.score_data"
   ]
  },
  {
   "cell_type": "markdown",
   "id": "b8190815",
   "metadata": {},
   "source": [
    "## 4. 시계열 예측 (다음 결제일 예측)"
   ]
  },
  {
   "cell_type": "code",
   "execution_count": null,
   "id": "1870b90e",
   "metadata": {},
   "outputs": [],
   "source": [
    "catmodel = joblib.load(model_path + \"catboost_Lpay.pkl\")\n",
    "test_set = pd.read_csv(data_path + \"custom_dataset/feature_test.csv\")\n",
    "test = test_set.drop([\"cust\", \"date\"], axis = 1)\n",
    "\n",
    "test.head(5)"
   ]
  },
  {
   "cell_type": "code",
   "execution_count": null,
   "id": "522df218",
   "metadata": {},
   "outputs": [],
   "source": [
    "test_set[\"predict\"] = catmodel.predict(test)"
   ]
  },
  {
   "cell_type": "code",
   "execution_count": null,
   "id": "eacbcd5f",
   "metadata": {},
   "outputs": [],
   "source": [
    "test_set[[\"cust\", \"predict\"]]"
   ]
  },
  {
   "cell_type": "markdown",
   "id": "587e81d6",
   "metadata": {},
   "source": [
    "* 예측값(predict열)은 시간단위이다."
   ]
  }
 ],
 "metadata": {
  "kernelspec": {
   "display_name": "Python 3 (ipykernel)",
   "language": "python",
   "name": "python3"
  },
  "language_info": {
   "codemirror_mode": {
    "name": "ipython",
    "version": 3
   },
   "file_extension": ".py",
   "mimetype": "text/x-python",
   "name": "python",
   "nbconvert_exporter": "python",
   "pygments_lexer": "ipython3",
   "version": "3.9.12"
  }
 },
 "nbformat": 4,
 "nbformat_minor": 5
}
