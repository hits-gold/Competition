{
 "cells": [
  {
   "cell_type": "markdown",
   "id": "282c2ea0",
   "metadata": {},
   "source": [
    "# module import"
   ]
  },
  {
   "cell_type": "code",
   "execution_count": null,
   "id": "57415b3f",
   "metadata": {},
   "outputs": [],
   "source": [
    "import os\n",
    "import numpy as np\n",
    "import random\n",
    "import pandas as pd\n",
    "import warnings; warnings.filterwarnings(\"ignore\")\n",
    "import time\n",
    "from datetime import datetime\n",
    "\n",
    "random.seed(1004)\n",
    "\n",
    "data_path = \"../../3. 경서경욱_데이터 및 모델 세이브 파일/dataset/\""
   ]
  },
  {
   "cell_type": "markdown",
   "id": "02fd0525",
   "metadata": {},
   "source": [
    "# Read data"
   ]
  },
  {
   "cell_type": "code",
   "execution_count": null,
   "id": "5d81b574",
   "metadata": {},
   "outputs": [],
   "source": [
    "ESG_SCORE.query(\"ESG_score < 0\").sort_values(by = \"ESG_score\")"
   ]
  },
  {
   "cell_type": "code",
   "execution_count": null,
   "id": "03d7af18",
   "metadata": {},
   "outputs": [],
   "source": [
    "ESG_SCORE = pd.read_csv(data_path + \"custom_dataset/ESG_SCORE.csv\", index_col=0)"
   ]
  },
  {
   "cell_type": "code",
   "execution_count": null,
   "id": "a5a19e27",
   "metadata": {},
   "outputs": [],
   "source": [
    "class ESG_cal():\n",
    "    def __init__(self, score_data, cust_id):\n",
    "        self.cust_id = cust_id\n",
    "        self.score_data = score_data\n",
    "        \n",
    "    def lookup_score(self):\n",
    "        if self.cust_id in self.score_data.cust.unique():\n",
    "            df = self.score_data.query(\"cust == @self.cust_id\").ESG_score.sum()\n",
    "            print(f\"현재 누적 ESG score는 {df}입니다.\")\n",
    "            return df\n",
    "        else:\n",
    "            print(\"누적된 ESG score가 없습니다.\")\n",
    "    \n",
    "    def new_pay(self):\n",
    "        input_info = ['온라인상품수', '거주지내상품수','저탄소상품액', '중고거래상품액', '친환경포장재상품액', 'ESG협력사상품액']\n",
    "        info_dic = {}; info_dic[\"cust\"] = self.cust_id\n",
    "        info_dic[\"cop_c\"] = input(\"cop_c :\" )\n",
    "        info_dic[\"de_dt\"] = datetime.today().strftime(\"%Y-%m-%d\")\n",
    "        info_dic[\"de_hr\"] = datetime.today().hour\n",
    "        info_dic[\"chnl_dv\"] = int(input(\"오프라인은 1, 온라인은 2 : \"))\n",
    "        \n",
    "        input_info_dict = {}\n",
    "        for input_data in input_info:\n",
    "            input_info_dict[input_data] = int(input(f\"{input_data} : \"))\n",
    "            \n",
    "        info_dic[\"온라인상품수_마일리지\"] = input_info_dict[\"온라인상품수\"] * 700\n",
    "        info_dic[\"거주지내구매_감점\"] = input_info_dict[\"거주지내상품수\"] * (-700)\n",
    "        info_dic[\"상품액_마일리지\"] = sum([input_info[pr] for pr in list(info_dic.keys()) if '액' in pr])\n",
    "        info_dic[\"ESG_score\"] = info_dic[\"온라인상품수_마일리지\"] + info_dic[\"거주지내구매_감점\"] + info_dic[\"상품액_마일리지\"]\n",
    "        self.score_data.iloc[self.score_data.shape[0]-1] = info_dic\n",
    "        \n",
    "        \n",
    "        print(\"\\n\")\n",
    "        print(\"이번 결제의 ESG score : \", self.score_data.loc[self.score_data.shape[0]-1, \"ESG_score\"])"
   ]
  },
  {
   "cell_type": "markdown",
   "id": "0c41cb3a",
   "metadata": {},
   "source": [
    "# example of class use"
   ]
  },
  {
   "cell_type": "code",
   "execution_count": null,
   "id": "a77a7868",
   "metadata": {},
   "outputs": [],
   "source": [
    "if __name__ == \"__main__\":\n",
    "    esg = ESG_cal(ESG_SCORE, \"M533286446\")\n",
    "    esg.lookup_score()\n",
    "    esg.new_pay()"
   ]
  },
  {
   "cell_type": "code",
   "execution_count": null,
   "id": "f434db92",
   "metadata": {
    "scrolled": true
   },
   "outputs": [],
   "source": [
    "esg.score_data"
   ]
  },
  {
   "cell_type": "markdown",
   "id": "44fb09f5",
   "metadata": {},
   "source": [
    "* 마지막 행에 예시 input 데이터가 삽입되어있는 것을 확인할 수 있음"
   ]
  }
 ],
 "metadata": {
  "kernelspec": {
   "display_name": "Python 3 (ipykernel)",
   "language": "python",
   "name": "python3"
  },
  "language_info": {
   "codemirror_mode": {
    "name": "ipython",
    "version": 3
   },
   "file_extension": ".py",
   "mimetype": "text/x-python",
   "name": "python",
   "nbconvert_exporter": "python",
   "pygments_lexer": "ipython3",
   "version": "3.9.12"
  }
 },
 "nbformat": 4,
 "nbformat_minor": 5
}
