{
 "cells": [
  {
   "cell_type": "code",
   "execution_count": 21,
   "id": "a2f037d8",
   "metadata": {},
   "outputs": [],
   "source": [
    "import pandas as pd\n",
    "import numpy as np\n",
    "import gc\n",
    "import os\n",
    "import warnings\n",
    "warnings.filterwarnings(\"ignore\")\n",
    "\n",
    "import joblib\n",
    "\n",
    "\n",
    "data_path = \"../../3. 경서경욱_데이터 및 모델 세이브 파일/dataset/\"\n",
    "model_path = \"../../3. 경서경욱_데이터 및 모델 세이브 파일/model/\""
   ]
  },
  {
   "cell_type": "code",
   "execution_count": 22,
   "id": "85a46162",
   "metadata": {},
   "outputs": [],
   "source": [
    "model = joblib.load(model_path+'svd.pkl')"
   ]
  },
  {
   "cell_type": "code",
   "execution_count": 23,
   "id": "817c8456",
   "metadata": {},
   "outputs": [],
   "source": [
    "data = pd.read_csv(data_path + \"custom_dataset/collab_filtering_valset.csv\", index_col = 0)\n",
    "product = pd.read_csv(data_path + \"origin_dataset/LPOINT_BIG_COMP_04_PD_CLAC.csv\")\n",
    "pro_list = list(product.pd_nm.unique())"
   ]
  },
  {
   "cell_type": "markdown",
   "id": "d8c04569",
   "metadata": {},
   "source": [
    "# 장바구니 분석을 통한 상품추천\n",
    "## - class 설명 -\n",
    "#### def __init__()\n",
    "    1) 초기값  \n",
    "      (1) self.model : 저장된 surprise의 svd모델\n",
    "      (2) self.items : custID|item|구매횟수 데이터프레임\n",
    "      (3) self.pro_list : 모든 상품 리스트\n",
    "      (4) self.custID : 고객식별번호\n",
    "               \n",
    "      (5) def get_unbought()\n",
    "           -> 전체 상품 중 custID가 구매하지 않았던 상품리스트 return\n",
    "\n",
    "    3) def recomm_item_by_surprise()\n",
    "        -> make_basket()에서 생성된 장바구니(basket)을 통해 장바구니 분석 진행\n",
    "        -> 지지도와 해당하는 장바구니를 return\n",
    "    4) make_basket으로 장바구니 초깃값 생성 : self.basket\n",
    "    5) make_support_score로 초깃값 생성 : self.support\n",
    " \n",
    "#### def recomm_item_by_surprise()\n",
    "    1) 초깃값에서 생성된 support_score를 바탕으로 입력된 product와 지지도가 형성된 상품 추천"
   ]
  },
  {
   "cell_type": "code",
   "execution_count": 51,
   "id": "ef473206",
   "metadata": {},
   "outputs": [],
   "source": [
    "class collab_filtering():\n",
    "    def __init__(self, model, items, pro_list, custID):\n",
    "        self.model = model\n",
    "        self.items = items\n",
    "        self.pro_list = pro_list\n",
    "        self.custID = custID\n",
    "    \n",
    "        def get_unbought(self, items, pro_list, custID):\n",
    "            # 특정 custId가 구매내역이 있는 상품\n",
    "            bought_item = items[items['custID']== custID]['item'].tolist()\n",
    "\n",
    "            # 특정 custId가 구매내역이 없 상품\n",
    "            unbought_item = [item for item in pro_list if item not in bought_item]\n",
    "\n",
    "            # 전체 상품 수, 구매내역 있는 상품 수, 구매내역 없는 상품 수\n",
    "            total_product_cnt = len(pro_list)\n",
    "            bought_cnt = len(bought_item)\n",
    "            unbought_cnt = len(unbought_item)\n",
    "\n",
    "            print(f\"전체 상품 수: {total_product_cnt}, 구매 내역있는 상품 수: {bought_cnt}, 추천 대상 상품 수: {unbought_cnt}\")\n",
    "            print(\"\\n\")\n",
    "            return unbought_item\n",
    "        \n",
    "        self.unbought_item = get_unbought(self, self.items, self.pro_list, self.custID)\n",
    "\n",
    "    def recomm_item_by_surprise(self, top_n=10):\n",
    "\n",
    "        # 아직 구매경험이 없은 상품에 대한 호감도 예측: prediction 객체 생성\n",
    "        predictions = []    \n",
    "        for item in self.unbought_item:\n",
    "            predictions.append(self.model.predict(str(self.custID), str(item)))\n",
    "\n",
    "        # 리스트 내의 prediction 객체의 est를 기준으로 내림차순 정렬\n",
    "        def sortkey_est(pred):\n",
    "            return pred.est\n",
    "\n",
    "        predictions.sort(key=sortkey_est, reverse=True) # key에 리스트 내 객체의 정렬 기준을 입력\n",
    "\n",
    "        # 상위 top_n개의 prediction 객체\n",
    "        top_predictions = predictions[:top_n]\n",
    "\n",
    "        # 상품, 예측 호감도 출력\n",
    "        print(f\"Top-{top_n} 추천 상품 리스트\")\n",
    "\n",
    "        for pred in top_predictions:\n",
    "            item_nm = pred.iid\n",
    "            item_ratings = pred.est\n",
    "            print(f\"{item_nm}: {item_ratings:.2f}\")\n"
   ]
  },
  {
   "cell_type": "code",
   "execution_count": 52,
   "id": "bb6d4c5b",
   "metadata": {},
   "outputs": [
    {
     "name": "stdout",
     "output_type": "stream",
     "text": [
      "전체 상품 수: 1932, 구매 내역있는 상품 수: 90, 추천 대상 상품 수: 1842\n",
      "\n",
      "\n",
      "Top-10 추천 상품 리스트\n",
      "숙박: 0.12\n",
      "반건오징어: 0.11\n",
      "처방사료: 0.10\n",
      "플라스틱서랍장: 0.10\n",
      "기타광학기기: 0.09\n",
      "여아코스튬: 0.09\n",
      "브로치: 0.08\n",
      "핸드폰충전: 0.08\n",
      "신문/잡지: 0.08\n",
      "유자/모과: 0.08\n"
     ]
    }
   ],
   "source": [
    "if __name__ == \"__main__\":\n",
    "    a = collab_filtering(model, data, pro_list, 'M905357061')\n",
    "    a.recomm_item_by_surprise()"
   ]
  },
  {
   "cell_type": "code",
   "execution_count": null,
   "id": "2fe419bf",
   "metadata": {},
   "outputs": [],
   "source": []
  }
 ],
 "metadata": {
  "kernelspec": {
   "display_name": "Python 3 (ipykernel)",
   "language": "python",
   "name": "python3"
  },
  "language_info": {
   "codemirror_mode": {
    "name": "ipython",
    "version": 3
   },
   "file_extension": ".py",
   "mimetype": "text/x-python",
   "name": "python",
   "nbconvert_exporter": "python",
   "pygments_lexer": "ipython3",
   "version": "3.9.12"
  }
 },
 "nbformat": 4,
 "nbformat_minor": 5
}
