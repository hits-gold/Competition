{
 "cells": [
  {
   "cell_type": "markdown",
   "id": "6db22f3a",
   "metadata": {},
   "source": [
    "# module import"
   ]
  },
  {
   "cell_type": "code",
   "execution_count": 1,
   "id": "7aa3ea09",
   "metadata": {},
   "outputs": [],
   "source": [
    "import pandas as pd\n",
    "import numpy as np\n",
    "import gc\n",
    "import os\n",
    "import warnings\n",
    "warnings.filterwarnings(\"ignore\")\n",
    "\n",
    "from mlxtend.frequent_patterns import apriori, association_rules\n",
    "from mlxtend.preprocessing import TransactionEncoder\n",
    "\n",
    "data_path = \"../../3. 경서경욱_데이터 및 모델 세이브 파일/dataset/\""
   ]
  },
  {
   "cell_type": "markdown",
   "id": "1daa3cca",
   "metadata": {},
   "source": [
    "# Read data"
   ]
  },
  {
   "cell_type": "code",
   "execution_count": 2,
   "id": "3755292d",
   "metadata": {},
   "outputs": [],
   "source": [
    "pdde = pd.read_csv(data_path + \"origin_dataset/LPOINT_BIG_COMP_02_PDDE.csv\") # 유통사 상품 구매 내역\n",
    "product = pd.read_csv(data_path + \"origin_dataset/LPOINT_BIG_COMP_04_PD_CLAC.csv\") # 유통사 상품 카테고리 마스터"
   ]
  },
  {
   "cell_type": "markdown",
   "id": "03c28fe4",
   "metadata": {},
   "source": [
    "# preprocessing"
   ]
  },
  {
   "cell_type": "code",
   "execution_count": 3,
   "id": "1ba8e056",
   "metadata": {},
   "outputs": [
    {
     "data": {
      "text/html": [
       "<div>\n",
       "<style scoped>\n",
       "    .dataframe tbody tr th:only-of-type {\n",
       "        vertical-align: middle;\n",
       "    }\n",
       "\n",
       "    .dataframe tbody tr th {\n",
       "        vertical-align: top;\n",
       "    }\n",
       "\n",
       "    .dataframe thead th {\n",
       "        text-align: right;\n",
       "    }\n",
       "</style>\n",
       "<table border=\"1\" class=\"dataframe\">\n",
       "  <thead>\n",
       "    <tr style=\"text-align: right;\">\n",
       "      <th></th>\n",
       "      <th>cust</th>\n",
       "      <th>rct_no</th>\n",
       "      <th>chnl_dv</th>\n",
       "      <th>cop_c</th>\n",
       "      <th>br_c</th>\n",
       "      <th>de_dt</th>\n",
       "      <th>de_hr</th>\n",
       "      <th>buy_am</th>\n",
       "      <th>buy_ct</th>\n",
       "      <th>pd_nm</th>\n",
       "      <th>clac_hlv_nm</th>\n",
       "      <th>clac_mcls_nm</th>\n",
       "    </tr>\n",
       "  </thead>\n",
       "  <tbody>\n",
       "    <tr>\n",
       "      <th>0</th>\n",
       "      <td>M430112881</td>\n",
       "      <td>A01000001113</td>\n",
       "      <td>1</td>\n",
       "      <td>A01</td>\n",
       "      <td>A010039</td>\n",
       "      <td>20210101</td>\n",
       "      <td>10</td>\n",
       "      <td>15000.0</td>\n",
       "      <td>1</td>\n",
       "      <td>남성티셔츠</td>\n",
       "      <td>남성의류</td>\n",
       "      <td>남성의류상의</td>\n",
       "    </tr>\n",
       "    <tr>\n",
       "      <th>1</th>\n",
       "      <td>M646853852</td>\n",
       "      <td>A01000002265</td>\n",
       "      <td>1</td>\n",
       "      <td>A01</td>\n",
       "      <td>A010025</td>\n",
       "      <td>20210101</td>\n",
       "      <td>10</td>\n",
       "      <td>79700.0</td>\n",
       "      <td>1</td>\n",
       "      <td>기타주방일회용품</td>\n",
       "      <td>주방잡화</td>\n",
       "      <td>주방일회용품</td>\n",
       "    </tr>\n",
       "    <tr>\n",
       "      <th>2</th>\n",
       "      <td>M430112881</td>\n",
       "      <td>A01000003148</td>\n",
       "      <td>1</td>\n",
       "      <td>A01</td>\n",
       "      <td>A010039</td>\n",
       "      <td>20210101</td>\n",
       "      <td>10</td>\n",
       "      <td>19000.0</td>\n",
       "      <td>1</td>\n",
       "      <td>남성티셔츠</td>\n",
       "      <td>남성의류</td>\n",
       "      <td>남성의류상의</td>\n",
       "    </tr>\n",
       "  </tbody>\n",
       "</table>\n",
       "</div>"
      ],
      "text/plain": [
       "         cust        rct_no  chnl_dv cop_c     br_c     de_dt  de_hr   buy_am  \\\n",
       "0  M430112881  A01000001113        1   A01  A010039  20210101     10  15000.0   \n",
       "1  M646853852  A01000002265        1   A01  A010025  20210101     10  79700.0   \n",
       "2  M430112881  A01000003148        1   A01  A010039  20210101     10  19000.0   \n",
       "\n",
       "   buy_ct     pd_nm clac_hlv_nm clac_mcls_nm  \n",
       "0       1     남성티셔츠        남성의류       남성의류상의  \n",
       "1       1  기타주방일회용품        주방잡화       주방일회용품  \n",
       "2       1     남성티셔츠        남성의류       남성의류상의  "
      ]
     },
     "execution_count": 3,
     "metadata": {},
     "output_type": "execute_result"
    }
   ],
   "source": [
    "# 상품코드에 따른 상품명 labeling feature\n",
    "\n",
    "pdde = pdde.merge(product, on = \"pd_c\", how = \"left\")\n",
    "pdde = pdde.drop(\"pd_c\", axis = 1)\n",
    "pdde.head(3)"
   ]
  },
  {
   "cell_type": "markdown",
   "id": "ac6b6a4c",
   "metadata": {},
   "source": [
    "# 장바구니 분석을 통한 상품추천\n",
    "## - class 설명 -\n",
    "#### def __init__()\n",
    "    1) 초기값으로 상품구매데이터 : self.data\n",
    "    \n",
    "    2) def make_basket()\n",
    "        -> 입력된 data로 장바구니(basket)생성\n",
    "          * 같은 상품대분류(clac_hlv_nm)에 속한 상품들끼리의 집합\n",
    "          * 같은 영수증 번호를 가진 상품 (같은 결제 내역에 포함된 상품)\n",
    "        -> 같은 영수증번호에 있는 상품들 중 같은 대분류에 해당하는 상품들끼리 장바구니 생성\n",
    "        \n",
    "    3) def make_support_score()\n",
    "        -> make_basket()에서 생성된 장바구니(basket)을 통해 장바구니 분석 진행\n",
    "        -> 지지도와 해당하는 장바구니를 return\n",
    "        \n",
    "    4) make_basket으로 장바구니 초깃값 생성 : self.basket\n",
    "    5) make_support_score로 초깃값 생성 : self.support\n",
    " \n",
    "#### def pro_recommend()\n",
    "    1) 초깃값에서 생성된 support_score를 바탕으로 입력된 product와 지지도가 형성된 상품 추천"
   ]
  },
  {
   "cell_type": "code",
   "execution_count": 4,
   "id": "d135ae2f",
   "metadata": {},
   "outputs": [],
   "source": [
    "class support():\n",
    "    def __init__(self, data):\n",
    "        self.data = data\n",
    "\n",
    "        def make_basket(self):\n",
    "            clacs_ = list(self.data.clac_mcls_nm.unique())\n",
    "            basket = pd.DataFrame()\n",
    "            for clac in clacs_:\n",
    "                df = self.data.query(\"clac_mcls_nm == @clac & clac_hlv_nm != '담배'\").groupby(\n",
    "                    ['cust', \"de_dt\", \"de_hr\", \"cop_c\"]).pd_nm.apply(lambda x : list(x)).reset_index()\n",
    "                df[\"pd_nm\"] = df[\"pd_nm\"].apply(lambda x : list(set(x)))\n",
    "                df[\"cnt\"] = df[\"pd_nm\"].apply(lambda x : len(x))\n",
    "                df = df.query(\"cnt > 1\")\n",
    "                df[\"clac_mcls_nm\"] = clac\n",
    "                basket = pd.concat([basket, df])\n",
    "            return basket\n",
    "\n",
    "        def make_support_score(self, basket):\n",
    "            support = pd.DataFrame()\n",
    "            for clac in basket.clac_mcls_nm.unique():\n",
    "                lst = []\n",
    "                for j in basket.query(\"clac_mcls_nm == @clac\").pd_nm.values:\n",
    "                    lst.append(j)\n",
    "                te = TransactionEncoder()\n",
    "                te_ary = te.fit_transform(lst)\n",
    "                df = pd.DataFrame(te_ary, columns=te.columns_)\n",
    "                frequent_itemsets = apriori(df, min_support=0.2, use_colnames=True)\n",
    "                frequent_itemsets[\"clac_mcls_nm\"] = clac\n",
    "                support = pd.concat([support, frequent_itemsets])\n",
    "                support[\"cnt\"] = support[\"itemsets\"].apply(lambda x : len(list(x)))\n",
    "                support = support.query(\"cnt > 1\")\n",
    "                support[\"itemsets\"] = support[\"itemsets\"].apply(lambda x : list(x))\n",
    "            return support\n",
    "        \n",
    "        self.basket = make_basket(self)\n",
    "        self.support = make_support_score(self, self.basket)\n",
    "    \n",
    "    def pro_recommend(self, product):\n",
    "        lst_ = []\n",
    "        for i in range(self.support.shape[0]):\n",
    "            if product in self.support.iloc[i, 1]:\n",
    "                lst_.append(i)\n",
    "        pro_ = []\n",
    "        for i in self.support.iloc[lst_, 1].values:\n",
    "            pr = i.copy(); pr.remove(product)\n",
    "            pro_.extend(pr)\n",
    "        print(pro_, \"를 추천드립니다\")"
   ]
  },
  {
   "cell_type": "code",
   "execution_count": 5,
   "id": "1b689a0c",
   "metadata": {},
   "outputs": [
    {
     "name": "stdout",
     "output_type": "stream",
     "text": [
      "['남성남방셔츠'] 를 추천드립니다\n"
     ]
    }
   ],
   "source": [
    "if __name__ == \"__main__\":\n",
    "    product = \"남성티셔츠\"\n",
    "    recommend_class = support(pdde)\n",
    "    recommend_class.pro_recommend(product)"
   ]
  },
  {
   "cell_type": "code",
   "execution_count": null,
   "id": "17a540c3",
   "metadata": {},
   "outputs": [],
   "source": []
  }
 ],
 "metadata": {
  "kernelspec": {
   "display_name": "Python 3 (ipykernel)",
   "language": "python",
   "name": "python3"
  },
  "language_info": {
   "codemirror_mode": {
    "name": "ipython",
    "version": 3
   },
   "file_extension": ".py",
   "mimetype": "text/x-python",
   "name": "python",
   "nbconvert_exporter": "python",
   "pygments_lexer": "ipython3",
   "version": "3.9.12"
  }
 },
 "nbformat": 4,
 "nbformat_minor": 5
}
