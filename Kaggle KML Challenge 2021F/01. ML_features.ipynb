{
 "cells": [
  {
   "cell_type": "markdown",
   "metadata": {
    "id": "mYjlvNFcoD54"
   },
   "source": [
    "# imports"
   ]
  },
  {
   "cell_type": "code",
   "execution_count": 2,
   "metadata": {
    "colab": {
     "base_uri": "https://localhost:8080/"
    },
    "executionInfo": {
     "elapsed": 18421,
     "status": "ok",
     "timestamp": 1638891115362,
     "user": {
      "displayName": "hits_gold",
      "photoUrl": "https://lh3.googleusercontent.com/a-/AOh14Gjpx_u2PIC2xtCjxYD_Gb_dgC_FpLPxaE1O45CBXw=s64",
      "userId": "11370323964495390978"
     },
     "user_tz": -540
    },
    "id": "BY8IQLZE79oh",
    "outputId": "b120c51a-e6e2-43cc-f8fb-420d2e5d1cbb"
   },
   "outputs": [],
   "source": [
    "import pandas as pd\n",
    "import numpy as np\n",
    "import matplotlib.pylab as plt\n",
    "%matplotlib inline\n",
    "plt.rc('font', family='NanumBarunGothic')\n",
    "import seaborn as sns\n",
    "import os\n",
    "import missingno as msno\n",
    "import pickle\n",
    "from glob import glob\n",
    "from sklearn.model_selection import cross_val_score\n",
    "from tqdm import tqdm, tqdm_notebook\n",
    "import warnings\n",
    "warnings.filterwarnings(\"ignore\")\n",
    "import gc\n",
    "import joblib\n",
    "\n",
    "# Preprocessing & Feature Engineering\n",
    "from sklearn.model_selection import train_test_split\n",
    "from sklearn.preprocessing import MinMaxScaler\n",
    "from sklearn.impute import SimpleImputer \n",
    "from sklearn.preprocessing import LabelEncoder\n",
    "from sklearn.preprocessing import StandardScaler\n",
    "from sklearn.preprocessing import MinMaxScaler\n",
    "from sklearn.preprocessing import PowerTransformer\n",
    "from sklearn.feature_selection import SelectPercentile\n",
    "# model\n",
    "from lightgbm import LGBMClassifier\n",
    "from xgboost import XGBClassifier\n",
    "# from catboost import CatBoostClassifier\n",
    "from sklearn.linear_model import LogisticRegression\n",
    "from sklearn.ensemble import RandomForestClassifier\n",
    "from sklearn.ensemble import AdaBoostClassifier "
   ]
  },
  {
   "cell_type": "code",
   "execution_count": 3,
   "metadata": {
    "executionInfo": {
     "elapsed": 5543,
     "status": "ok",
     "timestamp": 1638891121294,
     "user": {
      "displayName": "hits_gold",
      "photoUrl": "https://lh3.googleusercontent.com/a-/AOh14Gjpx_u2PIC2xtCjxYD_Gb_dgC_FpLPxaE1O45CBXw=s64",
      "userId": "11370323964495390978"
     },
     "user_tz": -540
    },
    "id": "98bYUky8QuxZ"
   },
   "outputs": [],
   "source": [
    "# input path\n",
    "path = (os.path.abspath(\"../input\"))\n",
    "\n",
    "panel = pd.read_csv(path + '/panel.csv', encoding = \"utf-8\")\n",
    "survey = pd.read_csv(path + '/survey.csv', encoding = \"utf-8\")\n",
    "response_train = pd.read_csv(path + '/response_train.csv', encoding = \"utf-8\")\n",
    "response_test = pd.read_csv(path + '/response_test.csv', encoding = \"utf-8\")\n",
    "sub = pd.read_csv(path + \"/sample_submission.csv\")"
   ]
  },
  {
   "cell_type": "markdown",
   "metadata": {
    "id": "ko8We4CkAYHk"
   },
   "source": [
    "# 1. Feature **Preprocessing**"
   ]
  },
  {
   "cell_type": "markdown",
   "metadata": {
    "id": "2cOvqtEQQN9e"
   },
   "source": [
    "\n",
    "\n",
    ">  panel 신상정보보다 SQ1~SQ3(성별, 생년월일, 지역)설문응답이 더 정확하다 판단\n",
    "\n",
    "\n",
    "> SQ1~SQ3의 결측값을 신상정보 feature로 매꾸고 이것으로 신상정보 대체\n",
    "\n"
   ]
  },
  {
   "cell_type": "code",
   "execution_count": 3,
   "metadata": {
    "executionInfo": {
     "elapsed": 418,
     "status": "ok",
     "timestamp": 1638891121701,
     "user": {
      "displayName": "hits_gold",
      "photoUrl": "https://lh3.googleusercontent.com/a-/AOh14Gjpx_u2PIC2xtCjxYD_Gb_dgC_FpLPxaE1O45CBXw=s64",
      "userId": "11370323964495390978"
     },
     "user_tz": -540
    },
    "id": "qltyls6q7wOk"
   },
   "outputs": [],
   "source": [
    "# train에만 존재하는 GENDER, BIRTH 결측값 가진 userID제거\n",
    "panel = panel.drop(index = panel[panel.userID == \"p08142\"].index)\n",
    "\n",
    "\n",
    "# panel의 SQ1의 결츨값을 GENDER로 메꾸기\n",
    "for i in panel[panel.SQ2.isnull()].index:\n",
    "    panel.loc[i, \"SQ1\"] = panel.loc[i, \"GENDER\"]\n",
    "\n",
    "\n",
    "# penal의 SQ2의 결측값을 BIRTH로 메꾸기\n",
    "for i in panel[panel.SQ2.isnull()].index:\n",
    "    panel.loc[i, \"SQ2\"] = panel.loc[i, \"BIRTH\"]\n",
    "\n",
    "# SQ2에 생년월일 대답 이상하게 한 userID는 BIRTH를 SQ2로\n",
    "idx = panel[panel.SQ2 < 10].index\n",
    "panel.loc[idx, \"SQ2\"] = panel.loc[idx, \"BIRTH\"]"
   ]
  },
  {
   "cell_type": "code",
   "execution_count": 4,
   "metadata": {
    "executionInfo": {
     "elapsed": 625,
     "status": "ok",
     "timestamp": 1638891122324,
     "user": {
      "displayName": "hits_gold",
      "photoUrl": "https://lh3.googleusercontent.com/a-/AOh14Gjpx_u2PIC2xtCjxYD_Gb_dgC_FpLPxaE1O45CBXw=s64",
      "userId": "11370323964495390978"
     },
     "user_tz": -540
    },
    "id": "QTJ9dUEfNOY1"
   },
   "outputs": [],
   "source": [
    "# REGION 열 변환용 사전\n",
    "region_lst = [\"서울\", \"세종\", \"인천\", \"대전\", \"광주\", \"대구\", \"울산\", \"부산\", \"경기\", \"강원\", \n",
    "              \"충북\", \"충남\", \"전북\", \"전남\", \"경북\", \"경남\", \"제주\"]\n",
    "pow_lst = [np.power(2, i) for i in range(1, 18)]\n",
    "region_dict = {x:y for x, y in zip(pow_lst, region_lst)}\n",
    "\n",
    "# SQ3 열 변환용 사전\n",
    "sq3_lst = [\"서울\", \"부산\", \"대구\", \"울산\", \"광주\", \"대전\", \"인천\", \"경기\", \"충북\", \"충남\",\n",
    "           \"경북\", \"경남\", \"전북\", \"전남\", \"강원\", \"제주\", \"세종\", \"기타/해외\"]\n",
    "idx_lst = list(range(1, 18))\n",
    "idx_lst.append(97)\n",
    "idx_lst = list(map(float, idx_lst))\n",
    "sq3_dict = {x:y for x, y in zip(idx_lst, sq3_lst)}\n",
    "\n",
    "# SQ3 데이터타입 통일 (최종 float으로 바꿔주기)\n",
    "panel.SQ3 = panel.SQ3.astype(\"str\")\n",
    "\n",
    "def clean(x):\n",
    "    if \",\" in x:\n",
    "        return \"1\"\n",
    "    else:\n",
    "        return x\n",
    "\n",
    "panel.SQ3 = panel.SQ3.map(clean)\n",
    "panel.SQ3 = panel.SQ3.astype(\"float64\")\n",
    "\n",
    "# REGION과 SQ3 최종변환\n",
    "panel[\"REGION\"] = panel[\"REGION\"].map(region_dict)\n",
    "panel[\"SQ3\"] = panel[\"SQ3\"].map(sq3_dict)\n",
    "\n",
    "# SQ3 결측값을 REGION으로 메꾸기\n",
    "for i in panel[panel.SQ3.isnull()].index:\n",
    "    panel.loc[i, \"SQ3\"] = panel.loc[i, \"REGION\"]\n",
    "\n",
    "# panel 신상정보faetures drop\n",
    "panel = panel.drop([\"REGION\", \"GENDER\", \"BIRTH\"], axis = 1)\n",
    "\n",
    "# SQ 1, 2, 3에 새로운 이름\n",
    "panel = panel.rename(columns = {\"SQ1\" : \"GENDER\", \"SQ2\" : \"BIRTH\", \"SQ3\": \"REGION\"})"
   ]
  },
  {
   "cell_type": "code",
   "execution_count": 5,
   "metadata": {
    "colab": {
     "base_uri": "https://localhost:8080/"
    },
    "executionInfo": {
     "elapsed": 10,
     "status": "ok",
     "timestamp": 1638891122325,
     "user": {
      "displayName": "hits_gold",
      "photoUrl": "https://lh3.googleusercontent.com/a-/AOh14Gjpx_u2PIC2xtCjxYD_Gb_dgC_FpLPxaE1O45CBXw=s64",
      "userId": "11370323964495390978"
     },
     "user_tz": -540
    },
    "id": "dj04eL14-Z5K",
    "outputId": "8e7735d3-4918-43f7-c561-25c38c7a30ea"
   },
   "outputs": [
    {
     "data": {
      "text/plain": [
       "61"
      ]
     },
     "execution_count": 5,
     "metadata": {},
     "output_type": "execute_result"
    }
   ],
   "source": [
    "survey_col = panel.loc[:, \"SQ4\":\"DQ7\"].columns\n",
    "\n",
    "for i in survey_col:\n",
    "    del panel[i]\n",
    "gc.collect()"
   ]
  },
  {
   "cell_type": "markdown",
   "metadata": {
    "id": "fn1YH_T1Axbo"
   },
   "source": [
    "\n",
    "\n",
    "> Data Merge\n",
    "\n"
   ]
  },
  {
   "cell_type": "code",
   "execution_count": 6,
   "metadata": {
    "colab": {
     "base_uri": "https://localhost:8080/"
    },
    "executionInfo": {
     "elapsed": 5427,
     "status": "ok",
     "timestamp": 1638891145629,
     "user": {
      "displayName": "hits_gold",
      "photoUrl": "https://lh3.googleusercontent.com/a-/AOh14Gjpx_u2PIC2xtCjxYD_Gb_dgC_FpLPxaE1O45CBXw=s64",
      "userId": "11370323964495390978"
     },
     "user_tz": -540
    },
    "id": "HNuaalix8wSe",
    "outputId": "9fbf66bc-b63e-46aa-fde2-bf788629e4a1"
   },
   "outputs": [
    {
     "data": {
      "text/plain": [
       "0"
      ]
     },
     "execution_count": 6,
     "metadata": {},
     "output_type": "execute_result"
    }
   ],
   "source": [
    "train = response_train.merge(panel).merge(survey)\n",
    "test = response_test.merge(panel).merge(survey).sort_values(by='ID')\n",
    "test = test.drop(\"ID\", axis = 1)\n",
    "del panel, survey, response_test, response_train\n",
    "gc.collect()"
   ]
  },
  {
   "cell_type": "markdown",
   "metadata": {
    "id": "9SqnlGiZp1k2"
   },
   "source": [
    "\n",
    "\n",
    "> features generation\n",
    "\n"
   ]
  },
  {
   "cell_type": "code",
   "execution_count": 7,
   "metadata": {
    "colab": {
     "base_uri": "https://localhost:8080/",
     "height": 206
    },
    "executionInfo": {
     "elapsed": 3943,
     "status": "ok",
     "timestamp": 1638891157290,
     "user": {
      "displayName": "hits_gold",
      "photoUrl": "https://lh3.googleusercontent.com/a-/AOh14Gjpx_u2PIC2xtCjxYD_Gb_dgC_FpLPxaE1O45CBXw=s64",
      "userId": "11370323964495390978"
     },
     "user_tz": -540
    },
    "id": "97epE4F3-FTR",
    "outputId": "63866185-1c30-4c79-d2dc-aec13edfacb6"
   },
   "outputs": [
    {
     "data": {
      "text/html": [
       "<div>\n",
       "<style scoped>\n",
       "    .dataframe tbody tr th:only-of-type {\n",
       "        vertical-align: middle;\n",
       "    }\n",
       "\n",
       "    .dataframe tbody tr th {\n",
       "        vertical-align: top;\n",
       "    }\n",
       "\n",
       "    .dataframe thead th {\n",
       "        text-align: right;\n",
       "    }\n",
       "</style>\n",
       "<table border=\"1\" class=\"dataframe\">\n",
       "  <thead>\n",
       "    <tr style=\"text-align: right;\">\n",
       "      <th></th>\n",
       "      <th>userID</th>\n",
       "      <th>surveyID</th>\n",
       "      <th>STATUS</th>\n",
       "      <th>TYPE</th>\n",
       "      <th>GENDER</th>\n",
       "      <th>BIRTH</th>\n",
       "      <th>REGION</th>\n",
       "      <th>TITLE</th>\n",
       "      <th>IR</th>\n",
       "      <th>LOI</th>\n",
       "      <th>CATEGORIES</th>\n",
       "      <th>CPI</th>\n",
       "      <th>hour</th>\n",
       "      <th>weekday</th>\n",
       "    </tr>\n",
       "  </thead>\n",
       "  <tbody>\n",
       "    <tr>\n",
       "      <th>0</th>\n",
       "      <td>p04802</td>\n",
       "      <td>s00004</td>\n",
       "      <td>0</td>\n",
       "      <td>B</td>\n",
       "      <td>2.0</td>\n",
       "      <td>1990.0</td>\n",
       "      <td>경기</td>\n",
       "      <td>해외 - 일반인 의견 조사 (DR 20200531-001)S</td>\n",
       "      <td>100</td>\n",
       "      <td>5</td>\n",
       "      <td>NaN</td>\n",
       "      <td>275.0</td>\n",
       "      <td>2</td>\n",
       "      <td>MON</td>\n",
       "    </tr>\n",
       "    <tr>\n",
       "      <th>1</th>\n",
       "      <td>p04685</td>\n",
       "      <td>s00004</td>\n",
       "      <td>0</td>\n",
       "      <td>B</td>\n",
       "      <td>2.0</td>\n",
       "      <td>1984.0</td>\n",
       "      <td>인천</td>\n",
       "      <td>해외 - 일반인 의견 조사 (DR 20200531-001)S</td>\n",
       "      <td>100</td>\n",
       "      <td>5</td>\n",
       "      <td>NaN</td>\n",
       "      <td>275.0</td>\n",
       "      <td>2</td>\n",
       "      <td>MON</td>\n",
       "    </tr>\n",
       "    <tr>\n",
       "      <th>2</th>\n",
       "      <td>p01206</td>\n",
       "      <td>s00004</td>\n",
       "      <td>1</td>\n",
       "      <td>D</td>\n",
       "      <td>2.0</td>\n",
       "      <td>1983.0</td>\n",
       "      <td>대전</td>\n",
       "      <td>해외 - 일반인 의견 조사 (DR 20200531-001)S</td>\n",
       "      <td>100</td>\n",
       "      <td>5</td>\n",
       "      <td>NaN</td>\n",
       "      <td>275.0</td>\n",
       "      <td>2</td>\n",
       "      <td>MON</td>\n",
       "    </tr>\n",
       "    <tr>\n",
       "      <th>3</th>\n",
       "      <td>p00423</td>\n",
       "      <td>s00004</td>\n",
       "      <td>1</td>\n",
       "      <td>D</td>\n",
       "      <td>1.0</td>\n",
       "      <td>1994.0</td>\n",
       "      <td>서울</td>\n",
       "      <td>해외 - 일반인 의견 조사 (DR 20200531-001)S</td>\n",
       "      <td>100</td>\n",
       "      <td>5</td>\n",
       "      <td>NaN</td>\n",
       "      <td>275.0</td>\n",
       "      <td>2</td>\n",
       "      <td>MON</td>\n",
       "    </tr>\n",
       "    <tr>\n",
       "      <th>4</th>\n",
       "      <td>p00328</td>\n",
       "      <td>s00004</td>\n",
       "      <td>1</td>\n",
       "      <td>D</td>\n",
       "      <td>2.0</td>\n",
       "      <td>1981.0</td>\n",
       "      <td>서울</td>\n",
       "      <td>해외 - 일반인 의견 조사 (DR 20200531-001)S</td>\n",
       "      <td>100</td>\n",
       "      <td>5</td>\n",
       "      <td>NaN</td>\n",
       "      <td>275.0</td>\n",
       "      <td>2</td>\n",
       "      <td>MON</td>\n",
       "    </tr>\n",
       "  </tbody>\n",
       "</table>\n",
       "</div>"
      ],
      "text/plain": [
       "   userID surveyID  STATUS TYPE  GENDER  ...  LOI CATEGORIES    CPI  hour  weekday\n",
       "0  p04802   s00004       0    B     2.0  ...    5        NaN  275.0     2      MON\n",
       "1  p04685   s00004       0    B     2.0  ...    5        NaN  275.0     2      MON\n",
       "2  p01206   s00004       1    D     2.0  ...    5        NaN  275.0     2      MON\n",
       "3  p00423   s00004       1    D     1.0  ...    5        NaN  275.0     2      MON\n",
       "4  p00328   s00004       1    D     2.0  ...    5        NaN  275.0     2      MON\n",
       "\n",
       "[5 rows x 14 columns]"
      ]
     },
     "execution_count": 7,
     "metadata": {},
     "output_type": "execute_result"
    }
   ],
   "source": [
    "# 날짜/시간 데이터\n",
    "train.TIME = train.TIME.astype(\"datetime64\")\n",
    "test.TIME = test.TIME.astype(\"datetime64\")\n",
    "\n",
    "# train[\"month\"] = train.TIME.dt.month\n",
    "# train[\"day\"] = train.TIME.dt.day\n",
    "train[\"hour\"] = train.TIME.dt.hour\n",
    "train[\"weekday\"] = train.TIME.dt.dayofweek.map({0:\"MON\", 1:\"TUE\", 2:\"WED\", 3:\"THU\", 4:\"FRI\", 5:\"SAT\", 6:\"SUN\"})\n",
    "\n",
    "# test[\"month\"] = test.TIME.dt.month\n",
    "# test[\"day\"] = test.TIME.dt.day\n",
    "test[\"hour\"] = test.TIME.dt.hour\n",
    "test[\"weekday\"] = test.TIME.dt.dayofweek.map({0:\"MON\", 1:\"TUE\", 2:\"WED\", 3:\"THU\", 4:\"FRI\", 5:\"SAT\", 6:\"SUN\"})\n",
    "\n",
    "train = train.drop(\"TIME\", axis = 1)\n",
    "test = test.drop(\"TIME\", axis = 1)\n",
    "train.head()"
   ]
  },
  {
   "cell_type": "code",
   "execution_count": 8,
   "metadata": {
    "executionInfo": {
     "elapsed": 4673,
     "status": "ok",
     "timestamp": 1638891166093,
     "user": {
      "displayName": "hits_gold",
      "photoUrl": "https://lh3.googleusercontent.com/a-/AOh14Gjpx_u2PIC2xtCjxYD_Gb_dgC_FpLPxaE1O45CBXw=s64",
      "userId": "11370323964495390978"
     },
     "user_tz": -540
    },
    "id": "o-O5L_oi1oDI"
   },
   "outputs": [],
   "source": [
    "# 유저아이디 별 응답확률\n",
    "res_rat = train.groupby('userID')['STATUS'].mean().reset_index().rename(columns = {\"STATUS\" : \"res_rat\"})\n",
    "train = train.merge(res_rat, how='left')\n",
    "test = test.merge(res_rat,how='left')"
   ]
  },
  {
   "cell_type": "code",
   "execution_count": 9,
   "metadata": {
    "executionInfo": {
     "elapsed": 9,
     "status": "ok",
     "timestamp": 1638891166095,
     "user": {
      "displayName": "hits_gold",
      "photoUrl": "https://lh3.googleusercontent.com/a-/AOh14Gjpx_u2PIC2xtCjxYD_Gb_dgC_FpLPxaE1O45CBXw=s64",
      "userId": "11370323964495390978"
     },
     "user_tz": -540
    },
    "id": "4jw1_qzOVbWq"
   },
   "outputs": [],
   "source": [
    "# 생년을 나이로\n",
    "train[\"age\"] = 2022- train[\"BIRTH\"]\n",
    "test[\"age\"] = 2022- test[\"BIRTH\"]"
   ]
  },
  {
   "cell_type": "code",
   "execution_count": 10,
   "metadata": {
    "executionInfo": {
     "elapsed": 133784,
     "status": "ok",
     "timestamp": 1638891299872,
     "user": {
      "displayName": "hits_gold",
      "photoUrl": "https://lh3.googleusercontent.com/a-/AOh14Gjpx_u2PIC2xtCjxYD_Gb_dgC_FpLPxaE1O45CBXw=s64",
      "userId": "11370323964495390978"
     },
     "user_tz": -540
    },
    "id": "rrR5mZFI0zll"
   },
   "outputs": [],
   "source": [
    "# title 유의미한 단어 빈도수 계산\n",
    "import re\n",
    "\n",
    "word_counts = {}\n",
    "def count_word(x): # 응답한 서베이 제목에서 한글 단어만 분리하고 빈도 계산\n",
    "    if x['STATUS'] == 1:\n",
    "        for w in re.sub(r'[^ ㄱ-ㅣ가-힣]', '', x['TITLE']).split():\n",
    "            word_counts[w] = word_counts.get(w, 0) + 1\n",
    "def score_word(x): # 빈도의 합으로 제목을 Encoding\n",
    "    score = 0\n",
    "    for w in re.sub(r'[^ ㄱ-ㅣ가-힣]', '', x['TITLE']).split():\n",
    "        score += word_counts.get(w, 0)\n",
    "    return score    \n",
    "            \n",
    "train.apply(count_word, axis=1)\n",
    "train.TITLE = train.apply(score_word, axis=1)\n",
    "test.TITLE = test.apply(score_word, axis=1)"
   ]
  },
  {
   "cell_type": "code",
   "execution_count": 11,
   "metadata": {
    "executionInfo": {
     "elapsed": 14,
     "status": "ok",
     "timestamp": 1638891299872,
     "user": {
      "displayName": "hits_gold",
      "photoUrl": "https://lh3.googleusercontent.com/a-/AOh14Gjpx_u2PIC2xtCjxYD_Gb_dgC_FpLPxaE1O45CBXw=s64",
      "userId": "11370323964495390978"
     },
     "user_tz": -540
    },
    "id": "ujtCa5Nh0-wr"
   },
   "outputs": [],
   "source": [
    "# hour mean encoding\n",
    "hour_mean = train.groupby(\"hour\").STATUS.mean()\n",
    "train[\"hour\"] = train[\"hour\"].map(dict(hour_mean))\n",
    "test[\"hour\"] = test[\"hour\"].map(dict(hour_mean))"
   ]
  },
  {
   "cell_type": "code",
   "execution_count": 12,
   "metadata": {
    "executionInfo": {
     "elapsed": 684,
     "status": "ok",
     "timestamp": 1638891300553,
     "user": {
      "displayName": "hits_gold",
      "photoUrl": "https://lh3.googleusercontent.com/a-/AOh14Gjpx_u2PIC2xtCjxYD_Gb_dgC_FpLPxaE1O45CBXw=s64",
      "userId": "11370323964495390978"
     },
     "user_tz": -540
    },
    "id": "PsY1pBbcNfVH"
   },
   "outputs": [],
   "source": [
    "# CPI mean encoding\n",
    "cpi_mean = train.groupby(\"CPI\").STATUS.mean()\n",
    "train[\"CPI_mean\"] = train[\"CPI\"].map(dict(cpi_mean))\n",
    "test[\"CPI_mean\"] = test[\"CPI\"].map(dict(cpi_mean))"
   ]
  },
  {
   "cell_type": "code",
   "execution_count": 13,
   "metadata": {
    "executionInfo": {
     "elapsed": 2,
     "status": "ok",
     "timestamp": 1638891301396,
     "user": {
      "displayName": "hits_gold",
      "photoUrl": "https://lh3.googleusercontent.com/a-/AOh14Gjpx_u2PIC2xtCjxYD_Gb_dgC_FpLPxaE1O45CBXw=s64",
      "userId": "11370323964495390978"
     },
     "user_tz": -540
    },
    "id": "pzfZDzTqWvIx"
   },
   "outputs": [],
   "source": [
    "test.CPI_mean = test.CPI_mean.fillna(train.CPI_mean.mean())\n",
    "#test.IR = test.IR.fillna(train.IR.mean())"
   ]
  },
  {
   "cell_type": "code",
   "execution_count": 14,
   "metadata": {
    "colab": {
     "base_uri": "https://localhost:8080/"
    },
    "executionInfo": {
     "elapsed": 687,
     "status": "ok",
     "timestamp": 1638891302081,
     "user": {
      "displayName": "hits_gold",
      "photoUrl": "https://lh3.googleusercontent.com/a-/AOh14Gjpx_u2PIC2xtCjxYD_Gb_dgC_FpLPxaE1O45CBXw=s64",
      "userId": "11370323964495390978"
     },
     "user_tz": -540
    },
    "id": "4ImcTiOK-xTU",
    "outputId": "2c585c53-dd87-402e-8dbe-6abc67567618"
   },
   "outputs": [
    {
     "data": {
      "text/plain": [
       "88"
      ]
     },
     "execution_count": 14,
     "metadata": {},
     "output_type": "execute_result"
    }
   ],
   "source": [
    "# X_train, y_train, X_test split\n",
    "X_train = train.drop(\"STATUS\", axis = 1)\n",
    "y_train = train.STATUS\n",
    "X_test = test\n",
    "\n",
    "del train, test\n",
    "gc.collect()"
   ]
  },
  {
   "cell_type": "code",
   "execution_count": 15,
   "metadata": {
    "executionInfo": {
     "elapsed": 637,
     "status": "ok",
     "timestamp": 1638891352350,
     "user": {
      "displayName": "hits_gold",
      "photoUrl": "https://lh3.googleusercontent.com/a-/AOh14Gjpx_u2PIC2xtCjxYD_Gb_dgC_FpLPxaE1O45CBXw=s64",
      "userId": "11370323964495390978"
     },
     "user_tz": -540
    },
    "id": "JHCJcz7odeEK"
   },
   "outputs": [],
   "source": [
    "# feature실험으로 영향없는 features drop하는 구간\n",
    "X_train = X_train.drop([\"userID\", \"surveyID\",\"REGION\", \"LOI\", \"BIRTH\"], axis = 1)\n",
    "X_test = X_test.drop([\"userID\", \"surveyID\",\"REGION\", \"LOI\", \"BIRTH\"], axis = 1)"
   ]
  },
  {
   "cell_type": "markdown",
   "metadata": {
    "id": "rjafMbDplxh7"
   },
   "source": [
    "\n",
    "\n",
    ">  Encoding\n",
    "\n"
   ]
  },
  {
   "cell_type": "code",
   "execution_count": 16,
   "metadata": {
    "executionInfo": {
     "elapsed": 5066,
     "status": "ok",
     "timestamp": 1638891360695,
     "user": {
      "displayName": "hits_gold",
      "photoUrl": "https://lh3.googleusercontent.com/a-/AOh14Gjpx_u2PIC2xtCjxYD_Gb_dgC_FpLPxaE1O45CBXw=s64",
      "userId": "11370323964495390978"
     },
     "user_tz": -540
    },
    "id": "SACCwEWFlcAO"
   },
   "outputs": [],
   "source": [
    "X_train[\"CATEGORIES\"]=X_train[\"CATEGORIES\"].fillna(\"unknown\")\n",
    "X_test[\"CATEGORIES\"]=X_test[\"CATEGORIES\"].fillna(\"unknown\")\n",
    "###################### CATEGORIES Label Encoding ######################\n",
    "encoder = LabelEncoder()\n",
    "# X_train데이터를 이용 피팅하고 라벨숫자로 변환한다\n",
    "encoder.fit(X_train[\"CATEGORIES\"])\n",
    "X_train_encoded_cat = encoder.transform(X_train[\"CATEGORIES\"])\n",
    "\n",
    "# X_test데이터에만 존재하는 새로 출현한 데이터를 신규 클래스로 추가한다 (중요!!!)\n",
    "for label in np.unique(X_test[\"CATEGORIES\"]):\n",
    "    if label not in encoder.classes_: # unseen label 데이터인 경우( )\n",
    "        encoder.classes_ = np.append(encoder.classes_, label) # 미처리 시 ValueError발생\n",
    "X_test_encoded_cat = encoder.transform(X_test[\"CATEGORIES\"])\n",
    "\n",
    "X_train[\"CATEGORIES\"] = pd.DataFrame(X_train_encoded_cat)\n",
    "X_test[\"CATEGORIES\"] = pd.DataFrame(X_test_encoded_cat)\n",
    "\n",
    "del X_train_encoded_cat, X_test_encoded_cat\n",
    "\n",
    "###################### weekday Label Encoding ######################\n",
    "\n",
    "# weekday Label Encoding\n",
    "encoder = LabelEncoder()\n",
    "# X_train데이터를 이용 피팅하고 라벨숫자로 변환한다\n",
    "encoder.fit(X_train[\"weekday\"])\n",
    "X_train_encoded_week = encoder.transform(X_train[\"weekday\"])\n",
    "\n",
    "# X_test데이터에만 존재하는 새로 출현한 데이터를 신규 클래스로 추가한다 (중요!!!)\n",
    "for label in np.unique(X_test[\"weekday\"]):\n",
    "    if label not in encoder.classes_: # unseen label 데이터인 경우( )\n",
    "        encoder.classes_ = np.append(encoder.classes_, label) # 미처리 시 ValueError발생\n",
    "X_test_encoded_week = encoder.transform(X_test[\"weekday\"])\n",
    "\n",
    "\n",
    "X_train[\"weekday\"] = pd.DataFrame(X_train_encoded_week)\n",
    "X_test[\"weekday\"] = pd.DataFrame(X_test_encoded_week)\n",
    "\n",
    "del X_train_encoded_week, X_test_encoded_week"
   ]
  },
  {
   "cell_type": "code",
   "execution_count": 17,
   "metadata": {
    "executionInfo": {
     "elapsed": 4879,
     "status": "ok",
     "timestamp": 1638891368410,
     "user": {
      "displayName": "hits_gold",
      "photoUrl": "https://lh3.googleusercontent.com/a-/AOh14Gjpx_u2PIC2xtCjxYD_Gb_dgC_FpLPxaE1O45CBXw=s64",
      "userId": "11370323964495390978"
     },
     "user_tz": -540
    },
    "id": "Uo9R07WHt8z3"
   },
   "outputs": [],
   "source": [
    "#  GENDER는 수치에 의미가 없어 문자열로 변경해 인코딩할 feature에 포함\n",
    "X_train[\"GENDER\"] = X_train[\"GENDER\"].astype(\"str\")\n",
    "X_test[\"GENDER\"] = X_test[\"GENDER\"].astype(\"str\")\n",
    "\n",
    "features = pd.concat([X_train, X_test])\n",
    "features = pd.get_dummies(features)\n",
    "\n",
    "X_train = features.iloc[:y_train.shape[0], :]\n",
    "X_test = features.iloc[y_train.shape[0]:, :]\n",
    "\n",
    "del features"
   ]
  },
  {
   "cell_type": "markdown",
   "metadata": {
    "id": "JGXZinSiAkS2"
   },
   "source": [
    "\n",
    "\n",
    "> features scaling\n",
    "\n"
   ]
  },
  {
   "cell_type": "code",
   "execution_count": 19,
   "metadata": {
    "executionInfo": {
     "elapsed": 8241,
     "status": "ok",
     "timestamp": 1638891389715,
     "user": {
      "displayName": "hits_gold",
      "photoUrl": "https://lh3.googleusercontent.com/a-/AOh14Gjpx_u2PIC2xtCjxYD_Gb_dgC_FpLPxaE1O45CBXw=s64",
      "userId": "11370323964495390978"
     },
     "user_tz": -540
    },
    "id": "NMbMy-mAk0C3"
   },
   "outputs": [],
   "source": [
    "# standard scaling\n",
    "scaler = StandardScaler()\n",
    "num = [\"IR\",\"CPI\",\"age\",\"CATEGORIES\",\"TITLE\", \"weekday\", \"res_rat\", \"CPI_mean\"]\n",
    "\n",
    "X_train[num] = scaler.fit_transform(X_train[num])\n",
    "X_test[num] = scaler.transform(X_test[num])"
   ]
  },
  {
   "cell_type": "markdown",
   "metadata": {
    "id": "vGy5cbl7ii96"
   },
   "source": [
    "# to_csv"
   ]
  },
  {
   "cell_type": "code",
   "execution_count": 22,
   "metadata": {
    "executionInfo": {
     "elapsed": 100301,
     "status": "ok",
     "timestamp": 1638893488234,
     "user": {
      "displayName": "hits_gold",
      "photoUrl": "https://lh3.googleusercontent.com/a-/AOh14Gjpx_u2PIC2xtCjxYD_Gb_dgC_FpLPxaE1O45CBXw=s64",
      "userId": "11370323964495390978"
     },
     "user_tz": -540
    },
    "id": "1JGFnNR86fXu"
   },
   "outputs": [],
   "source": [
    "X_train.to_csv(path + \"/X_train_lgbm.csv\", index = False)\n",
    "X_test.to_csv(path + \"/X_test_lgbm.csv\", index = False)\n",
    "y_train.to_csv(path + \"/y_train_lgbm.csv\", index = False)"
   ]
  }
 ],
 "metadata": {
  "accelerator": "TPU",
  "colab": {
   "collapsed_sections": [],
   "machine_shape": "hm",
   "name": "making LGBM features.ipynb",
   "provenance": []
  },
  "kernelspec": {
   "display_name": "Python 3",
   "language": "python",
   "name": "python3"
  },
  "language_info": {
   "codemirror_mode": {
    "name": "ipython",
    "version": 3
   },
   "file_extension": ".py",
   "mimetype": "text/x-python",
   "name": "python",
   "nbconvert_exporter": "python",
   "pygments_lexer": "ipython3",
   "version": "3.8.5"
  }
 },
 "nbformat": 4,
 "nbformat_minor": 1
}
